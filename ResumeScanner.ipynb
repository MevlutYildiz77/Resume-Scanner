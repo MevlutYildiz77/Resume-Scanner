{
 "cells": [
  {
   "cell_type": "code",
   "execution_count": 7,
   "metadata": {},
   "outputs": [
    {
     "name": "stdout",
     "output_type": "stream",
     "text": [
      "Requirement already satisfied: resume-parser in c:\\users\\toshiba\\anaconda3\\envs\\pythonproject\\lib\\site-packages (0.8.4)\n",
      "Requirement already satisfied: pdfminer.six>=20200517 in c:\\users\\toshiba\\anaconda3\\envs\\pythonproject\\lib\\site-packages (from resume-parser) (20221105)\n",
      "Requirement already satisfied: pdfplumber>=0.5.23 in c:\\users\\toshiba\\anaconda3\\envs\\pythonproject\\lib\\site-packages (from resume-parser) (0.8.0)\n",
      "Requirement already satisfied: spacy>=2.3.2 in c:\\users\\toshiba\\anaconda3\\envs\\pythonproject\\lib\\site-packages (from resume-parser) (3.3.1)\n",
      "Requirement already satisfied: tika>=1.24 in c:\\users\\toshiba\\anaconda3\\envs\\pythonproject\\lib\\site-packages (from resume-parser) (2.6.0)\n",
      "Requirement already satisfied: pandas>=1.1.0 in c:\\users\\toshiba\\appdata\\roaming\\python\\python39\\site-packages (from resume-parser) (1.4.4)\n",
      "Requirement already satisfied: nltk>=3.5 in c:\\users\\toshiba\\appdata\\roaming\\python\\python39\\site-packages (from resume-parser) (3.5)\n",
      "Requirement already satisfied: stemming>=1.0.1 in c:\\users\\toshiba\\anaconda3\\envs\\pythonproject\\lib\\site-packages (from resume-parser) (1.0.1)\n",
      "Requirement already satisfied: docx2txt>=0.8 in c:\\users\\toshiba\\anaconda3\\envs\\pythonproject\\lib\\site-packages (from resume-parser) (0.8)\n",
      "Requirement already satisfied: phonenumbers>=8.12.7 in c:\\users\\toshiba\\anaconda3\\envs\\pythonproject\\lib\\site-packages (from resume-parser) (8.12.27)\n",
      "Requirement already satisfied: numpy>=1.19.1 in c:\\users\\toshiba\\appdata\\roaming\\python\\python39\\site-packages (from resume-parser) (1.22.4)\n",
      "Requirement already satisfied: joblib in c:\\users\\toshiba\\anaconda3\\envs\\pythonproject\\lib\\site-packages (from nltk>=3.5->resume-parser) (1.1.1)\n",
      "Requirement already satisfied: tqdm in c:\\users\\toshiba\\anaconda3\\envs\\pythonproject\\lib\\site-packages (from nltk>=3.5->resume-parser) (4.64.1)\n",
      "Requirement already satisfied: regex in c:\\users\\toshiba\\anaconda3\\envs\\pythonproject\\lib\\site-packages (from nltk>=3.5->resume-parser) (2022.7.9)\n",
      "Requirement already satisfied: click in c:\\users\\toshiba\\appdata\\roaming\\python\\python39\\site-packages (from nltk>=3.5->resume-parser) (7.1.2)\n",
      "Requirement already satisfied: python-dateutil>=2.8.1 in c:\\users\\toshiba\\anaconda3\\envs\\pythonproject\\lib\\site-packages (from pandas>=1.1.0->resume-parser) (2.8.2)\n",
      "Requirement already satisfied: pytz>=2020.1 in c:\\users\\toshiba\\anaconda3\\envs\\pythonproject\\lib\\site-packages (from pandas>=1.1.0->resume-parser) (2022.7)\n",
      "Requirement already satisfied: cryptography>=36.0.0 in c:\\users\\toshiba\\anaconda3\\envs\\pythonproject\\lib\\site-packages (from pdfminer.six>=20200517->resume-parser) (38.0.4)\n",
      "Requirement already satisfied: charset-normalizer>=2.0.0 in c:\\users\\toshiba\\appdata\\roaming\\python\\python39\\site-packages (from pdfminer.six>=20200517->resume-parser) (2.0.2)\n",
      "Requirement already satisfied: cffi>=1.12 in c:\\users\\toshiba\\anaconda3\\envs\\pythonproject\\lib\\site-packages (from cryptography>=36.0.0->pdfminer.six>=20200517->resume-parser) (1.15.1)\n",
      "Requirement already satisfied: pycparser in c:\\users\\toshiba\\anaconda3\\envs\\pythonproject\\lib\\site-packages (from cffi>=1.12->cryptography>=36.0.0->pdfminer.six>=20200517->resume-parser) (2.21)\n",
      "Requirement already satisfied: Pillow>=9.1 in c:\\users\\toshiba\\anaconda3\\envs\\pythonproject\\lib\\site-packages (from pdfplumber>=0.5.23->resume-parser) (9.3.0)\n",
      "Requirement already satisfied: Wand>=0.6.10 in c:\\users\\toshiba\\anaconda3\\envs\\pythonproject\\lib\\site-packages (from pdfplumber>=0.5.23->resume-parser) (0.6.11)\n",
      "Requirement already satisfied: six>=1.5 in c:\\users\\toshiba\\anaconda3\\envs\\pythonproject\\lib\\site-packages (from python-dateutil>=2.8.1->pandas>=1.1.0->resume-parser) (1.16.0)\n",
      "Requirement already satisfied: cymem<2.1.0,>=2.0.2 in c:\\users\\toshiba\\anaconda3\\envs\\pythonproject\\lib\\site-packages (from spacy>=2.3.2->resume-parser) (2.0.6)\n",
      "Requirement already satisfied: srsly<3.0.0,>=2.4.3 in c:\\users\\toshiba\\anaconda3\\envs\\pythonproject\\lib\\site-packages (from spacy>=2.3.2->resume-parser) (2.4.3)\n",
      "Requirement already satisfied: typer<0.5.0,>=0.3.0 in c:\\users\\toshiba\\anaconda3\\envs\\pythonproject\\lib\\site-packages (from spacy>=2.3.2->resume-parser) (0.4.1)\n",
      "Requirement already satisfied: jinja2 in c:\\users\\toshiba\\appdata\\roaming\\python\\python39\\site-packages (from spacy>=2.3.2->resume-parser) (2.11.3)\n",
      "Note: you may need to restart the kernel to use updated packages.Requirement already satisfied: preshed<3.1.0,>=3.0.2 in c:\\users\\toshiba\\anaconda3\\envs\\pythonproject\\lib\\site-packages (from spacy>=2.3.2->resume-parser) (3.0.6)\n",
      "Requirement already satisfied: murmurhash<1.1.0,>=0.28.0 in c:\\users\\toshiba\\anaconda3\\envs\\pythonproject\\lib\\site-packages (from spacy>=2.3.2->resume-parser) (1.0.7)\n",
      "Requirement already satisfied: pydantic!=1.8,!=1.8.1,<1.9.0,>=1.7.4 in c:\\users\\toshiba\\anaconda3\\envs\\pythonproject\\lib\\site-packages (from spacy>=2.3.2->resume-parser) (1.8.2)\n",
      "Requirement already satisfied: catalogue<2.1.0,>=2.0.6 in c:\\users\\toshiba\\anaconda3\\envs\\pythonproject\\lib\\site-packages (from spacy>=2.3.2->resume-parser) (2.0.7)\n",
      "Requirement already satisfied: pathy>=0.3.5 in c:\\users\\toshiba\\anaconda3\\envs\\pythonproject\\lib\\site-packages (from spacy>=2.3.2->resume-parser) (0.10.1)\n",
      "Requirement already satisfied: blis<0.8.0,>=0.4.0 in c:\\users\\toshiba\\anaconda3\\envs\\pythonproject\\lib\\site-packages (from spacy>=2.3.2->resume-parser) (0.7.7)\n",
      "Requirement already satisfied: spacy-loggers<2.0.0,>=1.0.0 in c:\\users\\toshiba\\anaconda3\\envs\\pythonproject\\lib\\site-packages (from spacy>=2.3.2->resume-parser) (1.0.1)\n",
      "Requirement already satisfied: packaging>=20.0 in c:\\users\\toshiba\\anaconda3\\envs\\pythonproject\\lib\\site-packages (from spacy>=2.3.2->resume-parser) (21.3)\n",
      "Requirement already satisfied: langcodes<4.0.0,>=3.2.0 in c:\\users\\toshiba\\anaconda3\\envs\\pythonproject\\lib\\site-packages (from spacy>=2.3.2->resume-parser) (3.3.0)\n",
      "Requirement already satisfied: spacy-legacy<3.1.0,>=3.0.9 in c:\\users\\toshiba\\anaconda3\\envs\\pythonproject\\lib\\site-packages (from spacy>=2.3.2->resume-parser) (3.0.9)\n",
      "Requirement already satisfied: wasabi<1.1.0,>=0.9.1 in c:\\users\\toshiba\\anaconda3\\envs\\pythonproject\\lib\\site-packages (from spacy>=2.3.2->resume-parser) (0.9.1)\n",
      "Requirement already satisfied: requests<3.0.0,>=2.13.0 in c:\\users\\toshiba\\appdata\\roaming\\python\\python39\\site-packages (from spacy>=2.3.2->resume-parser) (2.26.0)\n",
      "Requirement already satisfied: setuptools in c:\\users\\toshiba\\anaconda3\\envs\\pythonproject\\lib\\site-packages (from spacy>=2.3.2->resume-parser) (61.2.0)\n",
      "Requirement already satisfied: thinc<8.1.0,>=8.0.14 in c:\\users\\toshiba\\anaconda3\\envs\\pythonproject\\lib\\site-packages (from spacy>=2.3.2->resume-parser) (8.0.15)\n",
      "Requirement already satisfied: pyparsing!=3.0.5,>=2.0.2 in c:\\users\\toshiba\\appdata\\roaming\\python\\python39\\site-packages (from packaging>=20.0->spacy>=2.3.2->resume-parser) (2.3.1)\n",
      "Requirement already satisfied: smart-open<7.0.0,>=5.2.1 in c:\\users\\toshiba\\anaconda3\\envs\\pythonproject\\lib\\site-packages (from pathy>=0.3.5->spacy>=2.3.2->resume-parser) (5.2.1)\n",
      "Requirement already satisfied: typing-extensions>=3.7.4.3 in c:\\users\\toshiba\\anaconda3\\envs\\pythonproject\\lib\\site-packages (from pydantic!=1.8,!=1.8.1,<1.9.0,>=1.7.4->spacy>=2.3.2->resume-parser) (4.4.0)\n",
      "Requirement already satisfied: certifi>=2017.4.17 in c:\\users\\toshiba\\appdata\\roaming\\python\\python39\\site-packages (from requests<3.0.0,>=2.13.0->spacy>=2.3.2->resume-parser) (2021.5.30)\n",
      "Requirement already satisfied: idna<4,>=2.5 in c:\\users\\toshiba\\appdata\\roaming\\python\\python39\\site-packages (from requests<3.0.0,>=2.13.0->spacy>=2.3.2->resume-parser) (3.2)\n",
      "\n",
      "Requirement already satisfied: urllib3<1.27,>=1.21.1 in c:\\users\\toshiba\\appdata\\roaming\\python\\python39\\site-packages (from requests<3.0.0,>=2.13.0->spacy>=2.3.2->resume-parser) (1.26.6)\n",
      "Requirement already satisfied: colorama in c:\\users\\toshiba\\anaconda3\\envs\\pythonproject\\lib\\site-packages (from tqdm->nltk>=3.5->resume-parser) (0.4.4)\n",
      "Requirement already satisfied: MarkupSafe>=0.23 in c:\\users\\toshiba\\appdata\\roaming\\python\\python39\\site-packages (from jinja2->spacy>=2.3.2->resume-parser) (2.0.1)\n"
     ]
    }
   ],
   "source": [
    "pip install resume-parser"
   ]
  },
  {
   "cell_type": "code",
   "execution_count": 10,
   "metadata": {},
   "outputs": [
    {
     "ename": "OSError",
     "evalue": "[E050] Can't find model 'en_core_web_sm'. It doesn't seem to be a Python package or a valid path to a data directory.",
     "output_type": "error",
     "traceback": [
      "\u001b[1;31m---------------------------------------------------------------------------\u001b[0m",
      "\u001b[1;31mOSError\u001b[0m                                   Traceback (most recent call last)",
      "\u001b[1;32mc:\\Users\\TOSHIBA\\Desktop\\Projelerim\\Resume Scan\\ResumeScanner.ipynb Cell 2\u001b[0m in \u001b[0;36m<cell line: 7>\u001b[1;34m()\u001b[0m\n\u001b[0;32m      <a href='vscode-notebook-cell:/c%3A/Users/TOSHIBA/Desktop/Projelerim/Resume%20Scan/ResumeScanner.ipynb#W3sZmlsZQ%3D%3D?line=3'>4</a>\u001b[0m     \u001b[39mfor\u001b[39;00m i, j \u001b[39min\u001b[39;00m data\u001b[39m.\u001b[39mitems():\n\u001b[0;32m      <a href='vscode-notebook-cell:/c%3A/Users/TOSHIBA/Desktop/Projelerim/Resume%20Scan/ResumeScanner.ipynb#W3sZmlsZQ%3D%3D?line=4'>5</a>\u001b[0m         \u001b[39mprint\u001b[39m(\u001b[39mf\u001b[39m\u001b[39m\"\u001b[39m\u001b[39m{\u001b[39;00mi\u001b[39m}\u001b[39;00m\u001b[39m:>>\u001b[39m\u001b[39m{\u001b[39;00mj\u001b[39m}\u001b[39;00m\u001b[39m\"\u001b[39m)\n\u001b[1;32m----> <a href='vscode-notebook-cell:/c%3A/Users/TOSHIBA/Desktop/Projelerim/Resume%20Scan/ResumeScanner.ipynb#W3sZmlsZQ%3D%3D?line=6'>7</a>\u001b[0m scan_resume(\u001b[39m\"\u001b[39;49m\u001b[39mMevlüt_YILDIZ-DA_ContentWriter.docx\u001b[39;49m\u001b[39m\"\u001b[39;49m)\n",
      "\u001b[1;32mc:\\Users\\TOSHIBA\\Desktop\\Projelerim\\Resume Scan\\ResumeScanner.ipynb Cell 2\u001b[0m in \u001b[0;36mscan_resume\u001b[1;34m(resume)\u001b[0m\n\u001b[0;32m      <a href='vscode-notebook-cell:/c%3A/Users/TOSHIBA/Desktop/Projelerim/Resume%20Scan/ResumeScanner.ipynb#W3sZmlsZQ%3D%3D?line=0'>1</a>\u001b[0m \u001b[39mdef\u001b[39;00m \u001b[39mscan_resume\u001b[39m(resume):\n\u001b[1;32m----> <a href='vscode-notebook-cell:/c%3A/Users/TOSHIBA/Desktop/Projelerim/Resume%20Scan/ResumeScanner.ipynb#W3sZmlsZQ%3D%3D?line=1'>2</a>\u001b[0m     \u001b[39mfrom\u001b[39;00m \u001b[39mresume_parser\u001b[39;00m \u001b[39mimport\u001b[39;00m resumeparse\n\u001b[0;32m      <a href='vscode-notebook-cell:/c%3A/Users/TOSHIBA/Desktop/Projelerim/Resume%20Scan/ResumeScanner.ipynb#W3sZmlsZQ%3D%3D?line=2'>3</a>\u001b[0m     data \u001b[39m=\u001b[39m resumeparse\u001b[39m.\u001b[39mread_file(resume)\n\u001b[0;32m      <a href='vscode-notebook-cell:/c%3A/Users/TOSHIBA/Desktop/Projelerim/Resume%20Scan/ResumeScanner.ipynb#W3sZmlsZQ%3D%3D?line=3'>4</a>\u001b[0m     \u001b[39mfor\u001b[39;00m i, j \u001b[39min\u001b[39;00m data\u001b[39m.\u001b[39mitems():\n",
      "File \u001b[1;32mc:\\Users\\TOSHIBA\\anaconda3\\envs\\pythonProject\\lib\\site-packages\\resume_parser\\__init__.py:1\u001b[0m, in \u001b[0;36m<module>\u001b[1;34m\u001b[0m\n\u001b[1;32m----> 1\u001b[0m \u001b[39mfrom\u001b[39;00m \u001b[39mresume_parser\u001b[39;00m\u001b[39m.\u001b[39;00m\u001b[39mresumeparse\u001b[39;00m \u001b[39mimport\u001b[39;00m resumeparse\n\u001b[0;32m      3\u001b[0m __all__ \u001b[39m=\u001b[39m [\n\u001b[0;32m      4\u001b[0m     \u001b[39m'\u001b[39m\u001b[39mresumeparse\u001b[39m\u001b[39m'\u001b[39m\n\u001b[0;32m      5\u001b[0m ]\n",
      "File \u001b[1;32mc:\\Users\\TOSHIBA\\anaconda3\\envs\\pythonProject\\lib\\site-packages\\resume_parser\\resumeparse.py:50\u001b[0m, in \u001b[0;36m<module>\u001b[1;34m\u001b[0m\n\u001b[0;32m     46\u001b[0m \u001b[39m# load pre-trained model\u001b[39;00m\n\u001b[0;32m     47\u001b[0m base_path \u001b[39m=\u001b[39m os\u001b[39m.\u001b[39mpath\u001b[39m.\u001b[39mdirname(\u001b[39m__file__\u001b[39m)\n\u001b[1;32m---> 50\u001b[0m nlp \u001b[39m=\u001b[39m spacy\u001b[39m.\u001b[39;49mload(\u001b[39m'\u001b[39;49m\u001b[39men_core_web_sm\u001b[39;49m\u001b[39m'\u001b[39;49m)\n\u001b[0;32m     51\u001b[0m custom_nlp2 \u001b[39m=\u001b[39m spacy\u001b[39m.\u001b[39mload(os\u001b[39m.\u001b[39mpath\u001b[39m.\u001b[39mjoin(base_path,\u001b[39m\"\u001b[39m\u001b[39mdegree\u001b[39m\u001b[39m\"\u001b[39m,\u001b[39m\"\u001b[39m\u001b[39mmodel\u001b[39m\u001b[39m\"\u001b[39m))\n\u001b[0;32m     52\u001b[0m custom_nlp3 \u001b[39m=\u001b[39m spacy\u001b[39m.\u001b[39mload(os\u001b[39m.\u001b[39mpath\u001b[39m.\u001b[39mjoin(base_path,\u001b[39m\"\u001b[39m\u001b[39mcompany_working\u001b[39m\u001b[39m\"\u001b[39m,\u001b[39m\"\u001b[39m\u001b[39mmodel\u001b[39m\u001b[39m\"\u001b[39m))\n",
      "File \u001b[1;32mc:\\Users\\TOSHIBA\\anaconda3\\envs\\pythonProject\\lib\\site-packages\\spacy\\__init__.py:51\u001b[0m, in \u001b[0;36mload\u001b[1;34m(name, vocab, disable, exclude, config)\u001b[0m\n\u001b[0;32m     30\u001b[0m \u001b[39mdef\u001b[39;00m \u001b[39mload\u001b[39m(\n\u001b[0;32m     31\u001b[0m     name: Union[\u001b[39mstr\u001b[39m, Path],\n\u001b[0;32m     32\u001b[0m     \u001b[39m*\u001b[39m,\n\u001b[1;32m   (...)\u001b[0m\n\u001b[0;32m     36\u001b[0m     config: Union[Dict[\u001b[39mstr\u001b[39m, Any], Config] \u001b[39m=\u001b[39m util\u001b[39m.\u001b[39mSimpleFrozenDict(),\n\u001b[0;32m     37\u001b[0m ) \u001b[39m-\u001b[39m\u001b[39m>\u001b[39m Language:\n\u001b[0;32m     38\u001b[0m     \u001b[39m\"\"\"Load a spaCy model from an installed package or a local path.\u001b[39;00m\n\u001b[0;32m     39\u001b[0m \n\u001b[0;32m     40\u001b[0m \u001b[39m    name (str): Package name or model path.\u001b[39;00m\n\u001b[1;32m   (...)\u001b[0m\n\u001b[0;32m     49\u001b[0m \u001b[39m    RETURNS (Language): The loaded nlp object.\u001b[39;00m\n\u001b[0;32m     50\u001b[0m \u001b[39m    \"\"\"\u001b[39;00m\n\u001b[1;32m---> 51\u001b[0m     \u001b[39mreturn\u001b[39;00m util\u001b[39m.\u001b[39;49mload_model(\n\u001b[0;32m     52\u001b[0m         name, vocab\u001b[39m=\u001b[39;49mvocab, disable\u001b[39m=\u001b[39;49mdisable, exclude\u001b[39m=\u001b[39;49mexclude, config\u001b[39m=\u001b[39;49mconfig\n\u001b[0;32m     53\u001b[0m     )\n",
      "File \u001b[1;32mc:\\Users\\TOSHIBA\\anaconda3\\envs\\pythonProject\\lib\\site-packages\\spacy\\util.py:427\u001b[0m, in \u001b[0;36mload_model\u001b[1;34m(name, vocab, disable, exclude, config)\u001b[0m\n\u001b[0;32m    425\u001b[0m \u001b[39mif\u001b[39;00m name \u001b[39min\u001b[39;00m OLD_MODEL_SHORTCUTS:\n\u001b[0;32m    426\u001b[0m     \u001b[39mraise\u001b[39;00m \u001b[39mIOError\u001b[39;00m(Errors\u001b[39m.\u001b[39mE941\u001b[39m.\u001b[39mformat(name\u001b[39m=\u001b[39mname, full\u001b[39m=\u001b[39mOLD_MODEL_SHORTCUTS[name]))  \u001b[39m# type: ignore[index]\u001b[39;00m\n\u001b[1;32m--> 427\u001b[0m \u001b[39mraise\u001b[39;00m \u001b[39mIOError\u001b[39;00m(Errors\u001b[39m.\u001b[39mE050\u001b[39m.\u001b[39mformat(name\u001b[39m=\u001b[39mname))\n",
      "\u001b[1;31mOSError\u001b[0m: [E050] Can't find model 'en_core_web_sm'. It doesn't seem to be a Python package or a valid path to a data directory."
     ]
    }
   ],
   "source": [
    "def scan_resume(resume):\n",
    "    from resume_parser import resumeparse\n",
    "    data = resumeparse.read_file(resume)\n",
    "    for i, j in data.items():\n",
    "        print(f\"{i}:>>{j}\")\n",
    "\n",
    "scan_resume(\"Mevlüt_YILDIZ-DA_ContentWriter.docx\")"
   ]
  }
 ],
 "metadata": {
  "kernelspec": {
   "display_name": "pythonProject",
   "language": "python",
   "name": "python3"
  },
  "language_info": {
   "codemirror_mode": {
    "name": "ipython",
    "version": 3
   },
   "file_extension": ".py",
   "mimetype": "text/x-python",
   "name": "python",
   "nbconvert_exporter": "python",
   "pygments_lexer": "ipython3",
   "version": "3.9.12"
  },
  "orig_nbformat": 4
 },
 "nbformat": 4,
 "nbformat_minor": 2
}
